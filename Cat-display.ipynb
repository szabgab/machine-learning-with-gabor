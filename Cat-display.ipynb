{
 "cells": [
  {
   "cell_type": "code",
   "execution_count": null,
   "id": "fb898b5a",
   "metadata": {},
   "outputs": [],
   "source": [
    "from ipywidgets import widgets"
   ]
  },
  {
   "cell_type": "code",
   "execution_count": null,
   "id": "66f6b004",
   "metadata": {},
   "outputs": [],
   "source": [
    "files = [\"cat-1.jpg\",\"cat-2.jpeg\"]"
   ]
  },
  {
   "cell_type": "code",
   "execution_count": null,
   "id": "d2b52566",
   "metadata": {},
   "outputs": [],
   "source": [
    "content = {}\n",
    "for filename in files:\n",
    "    with open(filename,'rb') as fh:\n",
    "        content[filename] = fh.read()"
   ]
  },
  {
   "cell_type": "code",
   "execution_count": null,
   "id": "ffee48d2",
   "metadata": {},
   "outputs": [],
   "source": [
    "image = widgets.Image(value=content[files[0]])"
   ]
  },
  {
   "cell_type": "code",
   "execution_count": null,
   "id": "dd8f3400",
   "metadata": {},
   "outputs": [],
   "source": [
    "display(image)"
   ]
  },
  {
   "cell_type": "code",
   "execution_count": null,
   "id": "990e37b0",
   "metadata": {},
   "outputs": [],
   "source": [
    "def handle_menu_change(change):\n",
    "    global image\n",
    "#    print(change)\n",
    "    image.close()\n",
    "    image = widgets.Image(value=content[change.new])\n",
    "    display(image)\n",
    "#     with open(change.new,'rb') as fh:\n",
    "#         image = widgets.Image(value=fh.read())\n",
    "#         display(image)\n",
    "\n",
    "menu = widgets.Dropdown(options=files,value=files[0])\n",
    "menu.observe(handle_menu_change,names='value')\n",
    "display(menu,image)"
   ]
  }
 ],
 "metadata": {
  "kernelspec": {
   "display_name": "Python 3 (ipykernel)",
   "language": "python",
   "name": "python3"
  },
  "language_info": {
   "codemirror_mode": {
    "name": "ipython",
    "version": 3
   },
   "file_extension": ".py",
   "mimetype": "text/x-python",
   "name": "python",
   "nbconvert_exporter": "python",
   "pygments_lexer": "ipython3",
   "version": "3.8.10"
  }
 },
 "nbformat": 4,
 "nbformat_minor": 5
}
