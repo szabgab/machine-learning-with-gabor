{
 "cells": [
  {
   "cell_type": "code",
   "execution_count": 7,
   "id": "fb898b5a",
   "metadata": {},
   "outputs": [],
   "source": [
    "from ipywidgets import widgets"
   ]
  },
  {
   "cell_type": "code",
   "execution_count": 35,
   "id": "66f6b004",
   "metadata": {},
   "outputs": [],
   "source": [
    "files = [\"cat-1.jpg\",\"cat-2.jpeg\"]"
   ]
  },
  {
   "cell_type": "code",
   "execution_count": 30,
   "id": "d2b52566",
   "metadata": {},
   "outputs": [],
   "source": [
    "content = {}\n",
    "for filename in files:\n",
    "    with open(filename,'rb') as fh:\n",
    "        content[filename] = fh.read()"
   ]
  },
  {
   "cell_type": "code",
   "execution_count": 31,
   "id": "ffee48d2",
   "metadata": {},
   "outputs": [],
   "source": [
    "image = widgets.Image(value=content[files[0]])"
   ]
  },
  {
   "cell_type": "code",
   "execution_count": 32,
   "id": "dd8f3400",
   "metadata": {},
   "outputs": [
    {
     "data": {
      "application/vnd.jupyter.widget-view+json": {
       "model_id": "",
       "version_major": 2,
       "version_minor": 0
      },
      "text/plain": [
       "Image(value=b'\\xff\\xd8\\xff\\xe0\\x00\\x10JFIF\\x00\\x01\\x01\\x00\\x00\\x01\\x00\\x01\\x00\\x00\\xff\\xfe\\x00;CREATOR: gd-jpe…"
      ]
     },
     "metadata": {},
     "output_type": "display_data"
    }
   ],
   "source": [
    "display(image)"
   ]
  },
  {
   "cell_type": "code",
   "execution_count": 64,
   "id": "990e37b0",
   "metadata": {},
   "outputs": [
    {
     "data": {
      "application/vnd.jupyter.widget-view+json": {
       "model_id": "cb0e5438cf9d43bf919f9e9767ded8c2",
       "version_major": 2,
       "version_minor": 0
      },
      "text/plain": [
       "Dropdown(options=('cat-1.jpg', 'cat-2.jpeg'), value='cat-1.jpg')"
      ]
     },
     "metadata": {},
     "output_type": "display_data"
    },
    {
     "data": {
      "application/vnd.jupyter.widget-view+json": {
       "model_id": "",
       "version_major": 2,
       "version_minor": 0
      },
      "text/plain": [
       "Image(value=b'\\xff\\xd8\\xff\\xe0\\x00\\x10JFIF\\x00\\x01\\x01\\x00\\x00\\x01\\x00\\x01\\x00\\x00\\xff\\xfe\\x00;CREATOR: gd-jpe…"
      ]
     },
     "metadata": {},
     "output_type": "display_data"
    },
    {
     "data": {
      "application/vnd.jupyter.widget-view+json": {
       "model_id": "",
       "version_major": 2,
       "version_minor": 0
      },
      "text/plain": [
       "Image(value=b'\\xff\\xd8\\xff\\xe0\\x00\\x10JFIF\\x00\\x01\\x01\\x01\\x00\\x00\\x00\\x00\\x00\\x00\\xff\\xe1\\x00BExif\\x00\\x00MM\\…"
      ]
     },
     "metadata": {},
     "output_type": "display_data"
    },
    {
     "data": {
      "application/vnd.jupyter.widget-view+json": {
       "model_id": "",
       "version_major": 2,
       "version_minor": 0
      },
      "text/plain": [
       "Image(value=b'\\xff\\xd8\\xff\\xe0\\x00\\x10JFIF\\x00\\x01\\x01\\x00\\x00\\x01\\x00\\x01\\x00\\x00\\xff\\xfe\\x00;CREATOR: gd-jpe…"
      ]
     },
     "metadata": {},
     "output_type": "display_data"
    },
    {
     "data": {
      "application/vnd.jupyter.widget-view+json": {
       "model_id": "40ed87252ea24c7284e4e889f52b4355",
       "version_major": 2,
       "version_minor": 0
      },
      "text/plain": [
       "Image(value=b'\\xff\\xd8\\xff\\xe0\\x00\\x10JFIF\\x00\\x01\\x01\\x01\\x00\\x00\\x00\\x00\\x00\\x00\\xff\\xe1\\x00BExif\\x00\\x00MM\\…"
      ]
     },
     "metadata": {},
     "output_type": "display_data"
    }
   ],
   "source": [
    "def handle_menu_change(change):\n",
    "    global image\n",
    "#    print(change)\n",
    "    image.close()\n",
    "    image = widgets.Image(value=content[change.new])\n",
    "    display(image)\n",
    "#     with open(change.new,'rb') as fh:\n",
    "#         image = widgets.Image(value=fh.read())\n",
    "#         display(image)\n",
    "\n",
    "menu = widgets.Dropdown(options=files,value=files[0])\n",
    "menu.observe(handle_menu_change,names='value')\n",
    "display(menu,image)"
   ]
  }
 ],
 "metadata": {
  "kernelspec": {
   "display_name": "Python 3 (ipykernel)",
   "language": "python",
   "name": "python3"
  },
  "language_info": {
   "codemirror_mode": {
    "name": "ipython",
    "version": 3
   },
   "file_extension": ".py",
   "mimetype": "text/x-python",
   "name": "python",
   "nbconvert_exporter": "python",
   "pygments_lexer": "ipython3",
   "version": "3.8.10"
  }
 },
 "nbformat": 4,
 "nbformat_minor": 5
}
