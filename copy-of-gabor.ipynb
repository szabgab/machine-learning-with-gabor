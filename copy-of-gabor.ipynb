{
 "cells": [
  {
   "cell_type": "code",
   "execution_count": null,
   "id": "1de07f4f",
   "metadata": {},
   "outputs": [],
   "source": [
    "import cv2\n",
    "import matplotlib.pyplot as plt\n",
    "#filename = \"/home/gabor/work/code-maven.com/static/img/twitter32.png\"\n",
    "filename = \"cat-1.jpg\"\n",
    "im = cv2.imread(filename)\n",
    "type(im)\n",
    "\n",
    "im\n",
    "im[100:110]= [255, 0, 0]\n",
    "im[110:120]= [0, 255, 0]\n",
    "plt.imshow(im);"
   ]
  }
 ],
 "metadata": {
  "kernelspec": {
   "display_name": "Python 3 (ipykernel)",
   "language": "python",
   "name": "python3"
  },
  "language_info": {
   "codemirror_mode": {
    "name": "ipython",
    "version": 3
   },
   "file_extension": ".py",
   "mimetype": "text/x-python",
   "name": "python",
   "nbconvert_exporter": "python",
   "pygments_lexer": "ipython3",
   "version": "3.8.10"
  }
 },
 "nbformat": 4,
 "nbformat_minor": 5
}
